{
 "cells": [
  {
   "cell_type": "code",
   "execution_count": 53,
   "metadata": {
    "collapsed": false
   },
   "outputs": [],
   "source": [
    "import shapely.wkt\n",
    "import os\n",
    "from osgeo import ogr\n",
    "\n",
    "# GFT_REFRESH_TOKEN = os.environ['GFT_REFRESH_TOKEN']\n",
    "\n",
    "from osgeo import gdal\n",
    "\n",
    "ogr.UseExceptions()\n",
    "\n",
    "# gdal.SetConfigOption('CPL_DEBUG', 'ON')\n",
    "gdal.SetConfigOption('CPL_DEBUG', 'OFF')"
   ]
  },
  {
   "cell_type": "markdown",
   "metadata": {},
   "source": [
    "use gdal_auth.py to get token, see http://www.gdal.org/drv_gft.html"
   ]
  },
  {
   "cell_type": "code",
   "execution_count": 54,
   "metadata": {
    "collapsed": true
   },
   "outputs": [],
   "source": [
    "\n",
    "GFT_REFRESH_TOKEN=\"1/KWWn5sYPDJGn9NmLeU95mxXWX17Q-E4eL4R_dlq_GH4\"\n"
   ]
  },
  {
   "cell_type": "code",
   "execution_count": 1,
   "metadata": {
    "collapsed": false
   },
   "outputs": [],
   "source": [
    "def convert2ft(input_path, output_path, append=False, fix_geometry=False, simplify_geometry=False, start_index=0):\n",
    "    filename = input_path\n",
    "\n",
    "    src_ds = ogr.Open(input_path)\n",
    "    src_lyr = src_ds.GetLayerByIndex(0)\n",
    "    f = src_lyr.GetFeature(1)\n",
    "\n",
    "    # create feature table\n",
    "    dst_ds = ogr.GetDriverByName('GFT').Open('GFT:refresh=' + GFT_REFRESH_TOKEN, True)\n",
    "    \n",
    "    if append:\n",
    "        dst_lyr = dst_ds.GetLayerByName(output_path)\n",
    "    else:\n",
    "        dst_lyr = dst_ds.CreateLayer(output_path)\n",
    "\n",
    "        # create fields using OGR\n",
    "        [dst_lyr.CreateField(f.GetFieldDefnRef(i)) for i in range(f.GetFieldCount())]\n",
    "\n",
    "    index = 0\n",
    "    batch_size = 15\n",
    "    index_batch = 0\n",
    "    for feat in src_lyr:\n",
    "        if index < start_index:\n",
    "            index = index + 1\n",
    "            continue\n",
    "        \n",
    "        try:\n",
    "            geom = shapely.wkt.loads(feat.GetGeometryRef().ExportToWkt())\n",
    "        except Exception as e: \n",
    "            print('Error({0}), skipping geometry.'.format(e))\n",
    "            continue\n",
    "\n",
    "        if fix_geometry and not geom.is_valid:\n",
    "            geom = geom.buffer(0.0)\n",
    "        \n",
    "        if simplify_geometry:\n",
    "            geom = geom.simplify(0.004)\n",
    "\n",
    "        f = ogr.Feature(dst_lyr.GetLayerDefn())\n",
    "        \n",
    "        # set field values\n",
    "        for i in range(feat.GetFieldCount()):\n",
    "            fd = feat.GetFieldDefnRef(i)\n",
    "            f.SetField(fd.GetName(), feat.GetField(fd.GetName()))\n",
    "            \n",
    "            #print(fd.GetName())\n",
    "            #print(feat.GetField(fd.GetName()))\n",
    "        \n",
    "        # set geometry    \n",
    "        f.SetGeometry(ogr.CreateGeometryFromWkt(geom.to_wkt()))\n",
    "        \n",
    "        if index_batch == 0:\n",
    "            dst_lyr.StartTransaction()\n",
    "            \n",
    "        index_batch = index_batch + 1\n",
    "        \n",
    "        # create feature\n",
    "        feature = dst_lyr.CreateFeature(f)\n",
    "        \n",
    "        f.Destroy() \n",
    "        \n",
    "        index = index + 1\n",
    "\n",
    "        if index_batch > batch_size:\n",
    "            dst_lyr.CommitTransaction()\n",
    "            index_batch = 0\n",
    "        \n",
    "    src_ds.Destroy()\n",
    "\n",
    "    dst_ds.Destroy()"
   ]
  },
  {
   "cell_type": "code",
   "execution_count": 49,
   "metadata": {
    "collapsed": true
   },
   "outputs": [],
   "source": [
    "input_file = 'daressalaam-latest-lines.kml'\n",
    "output_table = 'daressalaam-latest-lines-29-03-2016'\n"
   ]
  },
  {
   "cell_type": "code",
   "execution_count": null,
   "metadata": {
    "collapsed": false
   },
   "outputs": [],
   "source": [
    "append = False\n",
    "fix_geometry = True\n",
    "simplify_geometry = False\n",
    "\n",
    "# gdal.SetConfigOption('CPL_DEBUG', 'OFF')\n",
    "    \n",
    "convert2ft(input_file, output_table, append, fix_geometry, simplify_geometry) \n",
    "# convert2ft(input_file, output_table, append, fix_geometry, simplify_geometry, 10617) # append"
   ]
  },
  {
   "cell_type": "code",
   "execution_count": 7,
   "metadata": {
    "collapsed": false
   },
   "outputs": [
    {
     "name": "stdout",
     "output_type": "stream",
     "text": [
      "103968 (101.38%)\n"
     ]
    }
   ],
   "source": [
    "##### append = True\n",
    "fix_geometry = True\n",
    "simplify_geometry = False\n",
    "\n",
    "# gdal.SetConfigOption('CPL_DEBUG', 'OFF')\n",
    "\n",
    "ds = ogr.Open(input_file)\n",
    "l = ds.GetLayerByIndex(0)\n",
    "totalCount = l.GetFeatureCount()\n",
    "\n",
    "def GetFeatureCount():\n",
    "    driver = ogr.GetDriverByName('GFT')\n",
    "    dataSource = driver.Open('GFT:refresh=' + GFT_REFRESH_TOKEN, True)\n",
    "    layer = dataSource.GetLayer(12)\n",
    "\n",
    "    return layer.GetFeatureCount()\n",
    "\n",
    "count = GetFeatureCount()\n",
    "\n",
    "print('{0} ({1:.2f}%)'.format(count, 100. * float(count) / totalCount))\n",
    "\n",
    "while count < totalCount:\n",
    "    try:\n",
    "        # convert2ft(input_file, output_table, append, fix_geometry, simplify_geometry) \n",
    "        convert2ft(input_file, output_table, append, fix_geometry, simplify_geometry, count) # append\n",
    "    except RuntimeError:\n",
    "        count = GetFeatureCount()\n",
    "        print('{0} ({1:.2f}%)'.format(count, 100. * float(count) / totalCount))"
   ]
  },
  {
   "cell_type": "code",
   "execution_count": 50,
   "metadata": {
    "collapsed": false
   },
   "outputs": [],
   "source": [
    "ds = ogr.Open(\"daressalaam-latest-lines.kml\")\n",
    "l = ds.GetLayerByIndex(0)\n",
    "f = l.GetFeature(0)\n"
   ]
  },
  {
   "cell_type": "code",
   "execution_count": 55,
   "metadata": {
    "collapsed": false
   },
   "outputs": [
    {
     "name": "stdout",
     "output_type": "stream",
     "text": [
      "<osgeo.ogr.DataSource; proxy of <Swig Object of type 'OGRDataSourceShadow *' at 0x7f996f2ab3f0> >\n",
      "Layer count: 76\n",
      "0: Catchment_cutoff\n",
      "1: bounds1\n",
      "2: daressalaam-latest-polys-17-02-2015\n",
      "3: Project_Area\n",
      "4: Merge of daressalaam_polys_cut_attrs and daressalaam_polys_cut\n",
      "5: daressalaam_polys_cut_attrs\n",
      "6: daressalaam_polys_cut\n",
      "7: Merge of daressalaam_lines_attrs and daressalaam_lines\n",
      "8: daressalaam_lines_attrs\n",
      "9: daressalaam_polygons\n",
      "10: daressalaam_lines\n",
      "11: WB approved admin1\n",
      "12: SurfaceHydrologyAustralia_Major_MurrayDarling\n",
      "13: all.shp\n",
      "14: daressalaam-latest-lines-22-02-2016\n",
      "15: daressalaam-latest-lines-17-02-2015\n",
      "16: hybas_as_PFAF44_v1c\n",
      "17: grid_analysis_Mekong\n",
      "18: hybas_ar_max4_v1c\n",
      "19: grid_tiles_Mekong\n",
      "20: hybas_na_max4_v1c\n",
      "21: hybas_si_max4_v1c\n",
      "22: hybas_eu_max4_v1c\n",
      "23: max4_2\n",
      "24: max4_1\n",
      "25: hybas_lev05_v1c\n",
      "26: hybas_sa_max4_v1c\n",
      "27: hybas_as_max4_v1c\n",
      "28: hybas_au_max4_v1c\n",
      "29: hybas_af_max4_v1c\n",
      "30: riv_up16000\n",
      "31: reservoirs_Andijan\n",
      "32: hybas_lev04_v1c\n",
      "33: characters_Courier-New\n",
      "34: characters_Consolas\n",
      "35: characters_Helvetica-Oblique\n",
      "36: characters_Helvetica-BoldOblique\n",
      "37: characters_Helvetica-Bold\n",
      "38: characters_Helvetica\n",
      "39: characters_Hacker\n",
      "40: characters_ProductSans-Regular\n",
      "41: characters_EliteHackerCorroded\n",
      "42: australia-oceania-latest-5030073410-water-lines-segments\n",
      "43: MNDWI_15p_thresholds\n",
      "44: hybas_lev03_v1c\n",
      "45: Copy of Landsat Path Row WRS-2_bound_world\n",
      "46: Copy of 10m_coastline\n",
      "47: Copy of Natural Earth Tables\n",
      "48: ne_10m_land\n",
      "49: OSM_AU_NDWI_min_50\n",
      "50: OSM_AU_NDWI_min_50 (1aSQ_apThqJ3618T6l3En_csTp1f9wKmjPfjjMI6u)\n",
      "51: grid\n",
      "52: Nepal_LandslideFloodArea\n",
      "53: Nepal_LandslideFloodArea (1u0crHQrJLAtOhmhPqdhc355TN42MZyEicFa8xYwA)\n",
      "54: GRanD_reservoirs_v1_1\n",
      "55: GRanD_dams_v1_1\n",
      "56: hybas_au_lev08_v1c\n",
      "57: Nungwi\n",
      "58: hybas_au_lev07_v1c\n",
      "59: australia-oceania-latest-5030073410-water-multipolygons\n",
      "60: australia-oceania-latest-5030073410-water-lines\n",
      "61: au_riv_15s\n",
      "62: water-AU-5030073410\n",
      "63: USGS Current Conditions for Washington_ Streamflow\n",
      "64: hybas_au_lev02_v1c\n",
      "65: hybas_au_lev04_v1c\n",
      "66: hybas_au_lev06_v1c\n",
      "67: hybas_au_lev05_v1c\n",
      "68: hybas_au_lev03_v1c\n",
      "69: au_osm_rivers_multipolygons\n",
      "70: au_osm_rivers_lines\n",
      "71: hybas_au_lev02_v1c (1pMGAeq7irHDQQQPBgiNvIAeQ0h6EV6SNr0o0rea7)\n",
      "72: Copy of World Country Borders\n",
      "73: WRS-2_bound_world\n",
      "74: schoolen_25\n",
      "75: schoolen_25 (1v5AF0jBkHlZ9NciAXb_H_5iFSVwsSujwwvDe3d0)\n"
     ]
    }
   ],
   "source": [
    "driver = ogr.GetDriverByName('GFT')\n",
    "dataSource = driver.Open('GFT:refresh=' + GFT_REFRESH_TOKEN, True)\n",
    "print(dataSource)\n",
    "\n",
    "\n",
    "layerCount = dataSource.GetLayerCount()\n",
    "\n",
    "print('Layer count: {0}'.format(layerCount))\n",
    "\n",
    "for i in range(layerCount):\n",
    "    layer = dataSource.GetLayer(i)\n",
    "    print('{0}: {1}'.format(i, layer.GetName()))\n",
    "    \n",
    "    "
   ]
  },
  {
   "cell_type": "code",
   "execution_count": 56,
   "metadata": {
    "collapsed": false
   },
   "outputs": [
    {
     "ename": "RuntimeError",
     "evalue": "HTML error page returned by server",
     "output_type": "error",
     "traceback": [
      "\u001b[1;31m---------------------------------------------------------------------------\u001b[0m",
      "\u001b[1;31mRuntimeError\u001b[0m                              Traceback (most recent call last)",
      "\u001b[1;32m<ipython-input-56-1fb5c2b2f985>\u001b[0m in \u001b[0;36m<module>\u001b[1;34m()\u001b[0m\n\u001b[1;32m----> 1\u001b[1;33m \u001b[0mdataSource\u001b[0m\u001b[1;33m.\u001b[0m\u001b[0mGetLayerByName\u001b[0m\u001b[1;33m(\u001b[0m\u001b[1;34m'test1'\u001b[0m\u001b[1;33m)\u001b[0m\u001b[1;33m\u001b[0m\u001b[0m\n\u001b[0m",
      "\u001b[1;32m/usr/lib/python2.7/dist-packages/osgeo/ogr.pyc\u001b[0m in \u001b[0;36mGetLayerByName\u001b[1;34m(self, *args)\u001b[0m\n\u001b[0;32m    671\u001b[0m         \u001b[0moccurs\u001b[0m\u001b[1;33m.\u001b[0m\u001b[1;33m\u001b[0m\u001b[0m\n\u001b[0;32m    672\u001b[0m         \"\"\"\n\u001b[1;32m--> 673\u001b[1;33m         \u001b[1;32mreturn\u001b[0m \u001b[0m_ogr\u001b[0m\u001b[1;33m.\u001b[0m\u001b[0mDataSource_GetLayerByName\u001b[0m\u001b[1;33m(\u001b[0m\u001b[0mself\u001b[0m\u001b[1;33m,\u001b[0m \u001b[1;33m*\u001b[0m\u001b[0margs\u001b[0m\u001b[1;33m)\u001b[0m\u001b[1;33m\u001b[0m\u001b[0m\n\u001b[0m\u001b[0;32m    674\u001b[0m \u001b[1;33m\u001b[0m\u001b[0m\n\u001b[0;32m    675\u001b[0m     \u001b[1;32mdef\u001b[0m \u001b[0mTestCapability\u001b[0m\u001b[1;33m(\u001b[0m\u001b[0mself\u001b[0m\u001b[1;33m,\u001b[0m \u001b[1;33m*\u001b[0m\u001b[0margs\u001b[0m\u001b[1;33m)\u001b[0m\u001b[1;33m:\u001b[0m\u001b[1;33m\u001b[0m\u001b[0m\n",
      "\u001b[1;31mRuntimeError\u001b[0m: HTML error page returned by server"
     ]
    }
   ],
   "source": [
    "dataSource."
   ]
  }
 ],
 "metadata": {
  "kernelspec": {
   "display_name": "Python 2",
   "language": "python",
   "name": "python2"
  },
  "language_info": {
   "codemirror_mode": {
    "name": "ipython",
    "version": 2
   },
   "file_extension": ".py",
   "mimetype": "text/x-python",
   "name": "python",
   "nbconvert_exporter": "python",
   "pygments_lexer": "ipython2",
   "version": "2.7.9"
  }
 },
 "nbformat": 4,
 "nbformat_minor": 0
}
