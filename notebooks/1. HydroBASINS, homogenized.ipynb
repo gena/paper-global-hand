{
 "cells": [
  {
   "cell_type": "markdown",
   "metadata": {},
   "source": [
    "- Convert HydroBASIN polygons from SHP to KML\n",
    "- Fix geometry errors \n",
    "- Simplify geometry (optionally)"
   ]
  },
  {
   "cell_type": "code",
   "execution_count": 1,
   "metadata": {
    "collapsed": false
   },
   "outputs": [],
   "source": [
    "%matplotlib inline\n",
    "\n",
    "import logging\n",
    "import sys\n",
    "import os\n",
    "import glob\n",
    "\n",
    "import math\n",
    "import ogr\n",
    "import shapely.geometry, shapely.wkt\n",
    "import pylab\n",
    "import matplotlib.pyplot as plt\n",
    "from utils.shapely_plot import draw\n",
    "import shapely as sl\n",
    "import fiona\n",
    "import numpy as np\n",
    "import networkx as nx\n",
    "\n",
    "pylab.rcParams['figure.figsize'] = (17.0, 15.0)\n",
    "logging.basicConfig(stream=sys.stderr, level=logging.INFO)\n"
   ]
  },
  {
   "cell_type": "code",
   "execution_count": null,
   "metadata": {
    "collapsed": true
   },
   "outputs": [],
   "source": []
  },
  {
   "cell_type": "code",
   "execution_count": 18,
   "metadata": {
    "collapsed": false
   },
   "outputs": [],
   "source": [
    "info = {\n",
    "    'sa' : { \n",
    "        'name': 'South America',\n",
    "        'main_basin_id': 6010000010,\n",
    "        'files': glob.glob(r'D:\\gis\\HydroBASINS\\without_lakes\\hybas_sa_lev*_v1c.shp'),\n",
    "        'pfaf_ids': range(61, 68)\n",
    "    },\n",
    "    'af' : { \n",
    "        'name': 'Africa',\n",
    "        'main_basin_id': 1010000010,\n",
    "        'files': glob.glob(r'D:\\gis\\HydroBASINS\\without_lakes\\hybas_af_lev*_v1c.shp'),\n",
    "        'pfaf_ids': range(11, 19)\n",
    "    },\n",
    "    'si' : { \n",
    "        'name': 'Siberia',\n",
    "        'main_basin_id': 3010000010,\n",
    "        'files': glob.glob(r'D:\\gis\\HydroBASINS\\without_lakes\\hybas_si_lev*_v1c.shp'),\n",
    "        'pfaf_ids': range(31, 37)\n",
    "    },\n",
    "    'eu' : { \n",
    "        'name': 'Europe and Middle East',\n",
    "        'main_basin_id': 2010000010,\n",
    "        'files': glob.glob(r'D:\\gis\\HydroBASINS\\without_lakes\\hybas_eu_lev*_v1c.shp'),\n",
    "        'pfaf_ids': range(21, 30)\n",
    "    },\n",
    "    'na' : { \n",
    "        'name': 'North America and Carribean',\n",
    "        'main_basin_id': 7010000010,\n",
    "        'files': glob.glob(r'D:\\gis\\HydroBASINS\\without_lakes\\hybas_na_lev*_v1c.shp'),\n",
    "        'pfaf_ids': range(71, 79)\n",
    "    },\n",
    "    'ar' : { \n",
    "        'name': 'North American Arctic',\n",
    "        'main_basin_id': 8010000010,\n",
    "        'files': glob.glob(r'D:\\gis\\HydroBASINS\\without_lakes\\hybas_ar_lev*_v1c.shp'),\n",
    "        'pfaf_ids': range(81, 87)\n",
    "    },\n",
    "    'ar2' : { \n",
    "        'name': 'North American Arctic 2',\n",
    "        'main_basin_id': 8010020760,\n",
    "        'files': glob.glob(r'D:\\gis\\HydroBASINS\\without_lakes\\hybas_ar_lev*_v1c.shp'),\n",
    "        'pfaf_ids': [3]\n",
    "    },\n",
    "    'as' : { \n",
    "        'name': 'Central and South-East Asia',\n",
    "        'main_basin_id': 4010000010,\n",
    "        'files': glob.glob(r'D:\\gis\\HydroBASINS\\without_lakes\\hybas_as_lev*_v1c.shp'),\n",
    "        'pfaf_ids': range(41, 50)\n",
    "    },\n",
    "    'au' : { \n",
    "        'name': 'Australia and Oceania',\n",
    "        'main_basin_id': 5010000010,\n",
    "        'files': glob.glob(r'D:\\gis\\HydroBASINS\\without_lakes\\hybas_au_lev*_v1c.shp'),\n",
    "        'pfaf_ids': range(51, 58)\n",
    "    },\n",
    "    'gr' : { \n",
    "        'name': 'Greenland',\n",
    "        'main_basin_id': 9010000010,\n",
    "        'files': glob.glob(r'D:\\gis\\HydroBASINS\\without_lakes\\hybas_gr_lev*_v1c.shp'),\n",
    "        'pfaf_ids': [91]\n",
    "    },\n",
    "}\n",
    "\n",
    "# max_w = 4.0\n",
    "# max_h = 4.0\n",
    "# base_dir = '../output/basins_max_4/'\n",
    "\n",
    "max_w = 12.0\n",
    "max_h = 12.0\n",
    "base_dir = '../output/basins_max_12/'"
   ]
  },
  {
   "cell_type": "code",
   "execution_count": 19,
   "metadata": {
    "collapsed": false
   },
   "outputs": [],
   "source": [
    "def get_basin(id, path):\n",
    "    with fiona.collection(path, \"r\") as input:\n",
    "        for f in input:\n",
    "            if id == f['properties']['HYBAS_ID']:\n",
    "                return f\n",
    "    return None\n",
    "\n",
    "def get_child_basins(parent_pfaf_id, child_basins_path):\n",
    "    with fiona.collection(child_basins_path, \"r\") as input:\n",
    "        for feature in input:\n",
    "            pfaf_id = feature['properties']['PFAF_ID'] \n",
    "            if str(pfaf_id).startswith(str(parent_pfaf_id)): \n",
    "                yield feature\n",
    "\n",
    "def get_children(main_basin_id, child_basins_path):\n",
    "    print('Child basins: ' + child_basins_path)\n",
    "    child_basins = list(get_child_basins(main_basin_id, child_basins_path))\n",
    "    child_basins_ids = [str(f['properties']['PFAF_ID']) for f in child_basins]\n",
    "    child_basins_geoms = [sl.geometry.shape(f['geometry']) for f in child_basins]\n",
    "    count = len(child_basins)\n",
    "    print(count)\n",
    "    \n",
    "    return (child_basins, child_basins_ids, child_basins_geoms)\n",
    "\n",
    "def convert_basins_to_graph(region):\n",
    "    n = nx.DiGraph()\n",
    "\n",
    "    main_basin_id = region['main_basin_id']\n",
    "    files = region['files']\n",
    "    pfaf_ids = region['pfaf_ids']\n",
    "    name = region['name']\n",
    "\n",
    "    main_basin = get_basin(main_basin_id, files[0])\n",
    "\n",
    "    pfaf_id = str(main_basin['properties']['PFAF_ID'])\n",
    "    main_basin_geom = sl.geometry.shape(main_basin['geometry'])\n",
    "\n",
    "    print('Main basin: ' + files[0])\n",
    "    print('Main basin pfafid: ' + pfaf_id)\n",
    "    print('Area: ' + str(main_basin_geom.area))\n",
    "\n",
    "    basins2, ids2, geoms2 = get_children(pfaf_id, files[0])\n",
    "    basins3, ids3, geoms3 = get_children(pfaf_id, files[1])\n",
    "    basins4, ids4, geoms4 = get_children(pfaf_id, files[2])\n",
    "    basins5, ids5, geoms5 = get_children(pfaf_id, files[3])\n",
    "    basins6, ids6, geoms6 = get_children(pfaf_id, files[4])\n",
    "    basins7, ids7, geoms7 = get_children(pfaf_id, files[5])\n",
    "    basins8, ids8, geoms8 = get_children(pfaf_id, files[6])\n",
    "    basins9, ids9, geoms9 = get_children(pfaf_id, files[7])\n",
    "\n",
    "    basins_per_level = [basins2, basins3, basins4, basins5, basins6, basins7, basins8, basins9]\n",
    "\n",
    "    ids = [pfaf_id]+ids2+ids3+ids4+ids5+ids6+ids7+ids8+ids9\n",
    "    areas = [g.area for g in [main_basin_geom]+geoms2+geoms3+geoms4+geoms5+geoms6+geoms7+geoms8+geoms9]\n",
    "    basins = [b for b in [main_basin]+basins2+basins3+basins4+basins5+basins6+basins7+basins8+basins9]\n",
    "\n",
    "    print('Total basins: {0}'.format(len(basins)))\n",
    "    \n",
    "    n.add_nodes_from([(i,{'area':a, 'feature':f}) for (i,a,f) in zip(ids, areas, basins)])\n",
    "    # n.add_nodes_from([(i,{'area':a}) for (i,a,f) in zip(ids, areas, basins)])\n",
    "\n",
    "    n.add_edges_from([(pfaf_id, i) for i in ids2])\n",
    "    n.add_edges_from([(i[:-1], i) for i in ids3])\n",
    "    n.add_edges_from([(i[:-1], i) for i in ids4])\n",
    "    n.add_edges_from([(i[:-1], i) for i in ids5])\n",
    "    n.add_edges_from([(i[:-1], i) for i in ids6])\n",
    "    n.add_edges_from([(i[:-1], i) for i in ids7])\n",
    "    n.add_edges_from([(i[:-1], i) for i in ids8])\n",
    "    n.add_edges_from([(i[:-1], i) for i in ids9])\n",
    "\n",
    "    # max_level = 6\n",
    "    # n = n.subgraph([kv[0] for kv in list(n.degree().iteritems()) if len(kv[0]) < max_level + 2])\n",
    "    \n",
    "    return n\n",
    "\n",
    "def get_wh(geom):\n",
    "    bounds = geom.bounds\n",
    "\n",
    "    w = bounds[2]-bounds[0]\n",
    "    h = bounds[3]-bounds[1]\n",
    "    \n",
    "    return (w, h) \n",
    "\n",
    "def geometry_larger_than(geom, w, h):\n",
    "    bounds = geom.bounds\n",
    "    gw = bounds[2]-bounds[0]\n",
    "    gh = bounds[3]-bounds[1]\n",
    "    return (gw > w) or (gh > h)\n",
    "\n",
    "def geometry_smaller_than(geom, w, h):\n",
    "    bounds = geom.bounds\n",
    "    gw = bounds[2]-bounds[0]\n",
    "    gh = bounds[3]-bounds[1]\n",
    "    return (gw < w) and (gh < h)\n",
    "\n",
    "def get_leaves_smaller_than(graph, graph_nodes, node, w, h):\n",
    "    for child_node in graph.successors(node):\n",
    "        geom = sl.geometry.shape(graph_nodes[child_node]['feature']['geometry'])\n",
    "        \n",
    "        last = len(graph.successors(child_node)) == 0\n",
    "    \n",
    "        if(geometry_smaller_than(geom, w, h) or last):\n",
    "            yield child_node\n",
    "        else:\n",
    "            for child_child_node in get_leaves_smaller_than(graph, graph_nodes, child_node, w, h):\n",
    "                yield child_child_node\n",
    "\n",
    "                \n",
    "def get_leaf_basins(graph, graph_nodes, pfaf_id, max_w, max_h):\n",
    "    \"\"\"Returns leaf basins smaller than max_w, max_h\"\"\"\n",
    "    leaves = list(get_leaves_smaller_than(graph, graph_nodes, str(pfaf_id), max_w, max_h))\n",
    "    print(len(leaves))\n",
    "    s = graph.subgraph(leaves)\n",
    "    return s                \n",
    "\n",
    "def write_basins(region_id, info, pfaf_id, basins, file_name=None, mode='w'):\n",
    "    with fiona.open(info['files'][0]) as source:\n",
    "        source_driver = source.driver\n",
    "        source_crs = source.crs\n",
    "        source_schema = source.schema\n",
    "\n",
    "    # strange bug? values are not written unless we add .1\n",
    "    source_schema['properties']['HYBAS_ID'] = 'float:11.1'\n",
    "    source_schema['properties']['NEXT_DOWN'] = 'float:11.1'\n",
    "    source_schema['properties']['NEXT_SINK'] = 'float:11.1'\n",
    "    source_schema['properties']['MAIN_BAS'] = 'float:11.1'\n",
    "\n",
    "    if not file_name:\n",
    "        file_name = base_dir  + '/hybas_' + region_id + '_PFAF' + str(pfaf_id) + '_v1c.shp'\n",
    "    print('Writing ' + file_name)\n",
    "    \n",
    "    with fiona.open(file_name, mode, driver=source_driver, crs=source_crs, schema=source_schema) as c:\n",
    "        for node in basins:\n",
    "            feature = node[1]['feature']\n",
    "\n",
    "            geom = sl.geometry.shape(feature['geometry'])\n",
    "            if not geom.is_valid:\n",
    "                clean = geom.buffer(0.0) # Use the 0-buffer polygon cleaning trick\n",
    "                assert clean.is_valid\n",
    "                geom = clean\n",
    "                feature['geometry'] = sl.geometry.mapping(geom)\n",
    "                \n",
    "            c.write(feature)\n"
   ]
  },
  {
   "cell_type": "code",
   "execution_count": 20,
   "metadata": {
    "collapsed": false,
    "scrolled": false
   },
   "outputs": [
    {
     "name": "stdout",
     "output_type": "stream",
     "text": [
      "Region: sa\n",
      "Main basin: D:\\gis\\HydroBASINS\\without_lakes\\hybas_sa_lev01_v1c.shp\n",
      "Main basin pfafid: 6\n",
      "Area: 1548.56753183\n",
      "Child basins: D:\\gis\\HydroBASINS\\without_lakes\\hybas_sa_lev01_v1c.shp\n",
      "1\n",
      "Child basins: D:\\gis\\HydroBASINS\\without_lakes\\hybas_sa_lev02_v1c.shp\n",
      "7\n",
      "Child basins: D:\\gis\\HydroBASINS\\without_lakes\\hybas_sa_lev03_v1c.shp\n",
      "31\n",
      "Child basins: D:\\gis\\HydroBASINS\\without_lakes\\hybas_sa_lev04_v1c.shp\n",
      "147\n",
      "Child basins: D:\\gis\\HydroBASINS\\without_lakes\\hybas_sa_lev05_v1c.shp\n",
      "496\n",
      "Child basins: D:\\gis\\HydroBASINS\\without_lakes\\hybas_sa_lev06_v1c.shp\n",
      "1946\n",
      "Child basins: D:\\gis\\HydroBASINS\\without_lakes\\hybas_sa_lev07_v1c.shp\n",
      "7036\n",
      "Child basins: D:\\gis\\HydroBASINS\\without_lakes\\hybas_sa_lev08_v1c.shp\n",
      "23783\n",
      "Total basins: 33448\n",
      "30"
     ]
    },
    {
     "name": "stderr",
     "output_type": "stream",
     "text": [
      "WARNING:shapely.geos:Ring Self-intersection at or near point -58.579166666666637 6.7416666666666885\n",
      "WARNING:shapely.geos:Ring Self-intersection at or near point -54.029166666666633 5.6083333333333609\n",
      "WARNING:shapely.geos:Ring Self-intersection at or near point -53.904166666666654 5.7416666666666956\n",
      "WARNING:shapely.geos:Ring Self-intersection at or near point -77.991666666666632 9.1958333333333577\n",
      "WARNING:shapely.geos:Ring Self-intersection at or near point -61.670833333333306 10.695833333333354\n",
      "WARNING:shapely.geos:Ring Self-intersection at or near point -60.808333333333302 8.8750000000000213\n",
      "WARNING:shapely.geos:Ring Self-intersection at or near point -64.629166666666634 10.250000000000018\n",
      "WARNING:shapely.geos:Ring Self-intersection at or near point -65.15416666666664 10.075000000000015\n",
      "WARNING:shapely.geos:Ring Self-intersection at or near point -71.754166666666649 9.1208333333333584\n",
      "WARNING:shapely.geos:Ring Self-intersection at or near point -74.112499999999969 11.333333333333359\n"
     ]
    },
    {
     "name": "stdout",
     "output_type": "stream",
     "text": [
      "\n",
      "Writing ../output/basins_max_12//hybas_sa_PFAF61_v1c.shp\n",
      "77"
     ]
    },
    {
     "name": "stderr",
     "output_type": "stream",
     "text": [
      "WARNING:shapely.geos:Ring Self-intersection at or near point -49.362499999999983 -1.5874999999999804\n",
      "WARNING:shapely.geos:Ring Self-intersection at or near point -51.008333333333312 -0.57916666666663907\n",
      "WARNING:shapely.geos:Ring Self-intersection at or near point -63.474999999999973 -0.91666666666664165\n",
      "WARNING:shapely.geos:Ring Self-intersection at or near point -49.28749999999998 -2.0333333333333172\n",
      "WARNING:shapely.geos:Ring Self-intersection at or near point -69.162499999999966 -14.762499999999974\n",
      "WARNING:shapely.geos:Ring Self-intersection at or near point -63.937499999999979 -8.3333333333333037\n",
      "WARNING:shapely.geos:Ring Self-intersection at or near point -67.254166666666634 -5.7583333333333151\n"
     ]
    },
    {
     "name": "stdout",
     "output_type": "stream",
     "text": [
      "\n",
      "Writing ../output/basins_max_12//hybas_sa_PFAF62_v1c.shp\n",
      "21"
     ]
    },
    {
     "name": "stderr",
     "output_type": "stream",
     "text": [
      "WARNING:shapely.geos:Ring Self-intersection at or near point -43.437499999999979 -2.4208333333333045\n",
      "WARNING:shapely.geos:Ring Self-intersection at or near point -35.087499999999977 -8.6916666666666398\n",
      "WARNING:shapely.geos:Ring Self-intersection at or near point -37.16249999999998 -11.099999999999977\n",
      "WARNING:shapely.geos:Ring Self-intersection at or near point -42.370833333333309 -15.070833333333312\n",
      "WARNING:shapely.geos:Ring Self-intersection at or near point -44.954166666666644 -23.383333333333312\n"
     ]
    },
    {
     "name": "stdout",
     "output_type": "stream",
     "text": [
      "\n",
      "Writing ../output/basins_max_12//hybas_sa_PFAF63_v1c.shp\n",
      "29"
     ]
    },
    {
     "name": "stderr",
     "output_type": "stream",
     "text": [
      "WARNING:shapely.geos:Ring Self-intersection at or near point -58.137499999999967 -33.037499999999973\n",
      "WARNING:shapely.geos:Ring Self-intersection at or near point -54.345833333333303 -34.616666666666639\n",
      "WARNING:shapely.geos:Ring Self-intersection at or near point -58.079166666666637 -32.916666666666636\n",
      "WARNING:shapely.geos:Ring Self-intersection at or near point -50.649999999999977 -30.199999999999967\n",
      "WARNING:shapely.geos:Ring Self-intersection at or near point -57.074999999999974 -28.629166666666638\n",
      "WARNING:shapely.geos:Ring Self-intersection at or near point -45.887499999999982 -22.795833333333302\n",
      "WARNING:shapely.geos:Ring Self-intersection at or near point -58.40416666666664 -34.262499999999967\n"
     ]
    },
    {
     "name": "stdout",
     "output_type": "stream",
     "text": [
      "\n",
      "Writing ../output/basins_max_12//hybas_sa_PFAF64_v1c.shp\n",
      "22"
     ]
    },
    {
     "name": "stderr",
     "output_type": "stream",
     "text": [
      "WARNING:shapely.geos:Ring Self-intersection at or near point -65.870833333333309 -47.795833333333313\n",
      "WARNING:shapely.geos:Ring Self-intersection at or near point -65.883333333333312 -45.045833333333306\n",
      "WARNING:shapely.geos:Ring Self-intersection at or near point -62.041666666666629 -40.254166666666634\n",
      "WARNING:shapely.geos:Ring Self-intersection at or near point -58.941666666666642 -51.841666666666647\n",
      "WARNING:shapely.geos:Ring Self-intersection at or near point -62.187499999999964 -38.854166666666636\n"
     ]
    },
    {
     "name": "stdout",
     "output_type": "stream",
     "text": [
      "\n",
      "Writing ../output/basins_max_12//hybas_sa_PFAF65_v1c.shp\n",
      "25"
     ]
    },
    {
     "name": "stderr",
     "output_type": "stream",
     "text": [
      "WARNING:shapely.geos:Ring Self-intersection at or near point -70.854166666666629 -27.079166666666641\n",
      "WARNING:shapely.geos:Ring Self-intersection at or near point -71.174999999999969 -28.095833333333299\n",
      "WARNING:shapely.geos:Ring Self-intersection at or near point -73.158333333333303 -37.02916666666664\n",
      "WARNING:shapely.geos:Ring Self-intersection at or near point -73.46666666666664 -47.866666666666646\n",
      "WARNING:shapely.geos:Ring Self-intersection at or near point -72.954166666666637 -52.970833333333303\n",
      "WARNING:shapely.geos:Ring Self-intersection at or near point -70.570833333333297 -54.112499999999969\n",
      "WARNING:shapely.geos:Ring Self-intersection at or near point -73.53749999999998 -45.204166666666644\n",
      "WARNING:shapely.geos:Ring Self-intersection at or near point -72.837499999999963 -45.424999999999976\n",
      "WARNING:shapely.geos:Ring Self-intersection at or near point -73.116666666666632 -41.812499999999979\n"
     ]
    },
    {
     "name": "stdout",
     "output_type": "stream",
     "text": [
      "\n",
      "Writing ../output/basins_max_12//hybas_sa_PFAF66_v1c.shp\n",
      "20"
     ]
    },
    {
     "name": "stderr",
     "output_type": "stream",
     "text": [
      "WARNING:shapely.geos:Ring Self-intersection at or near point -80.008333333333312 -2.5999999999999726\n",
      "WARNING:shapely.geos:Ring Self-intersection at or near point -77.504166666666634 4.2000000000000171\n",
      "WARNING:shapely.geos:Ring Self-intersection at or near point -89.958333333333314 0.30416666666668535\n",
      "WARNING:shapely.geos:Ring Self-intersection at or near point -80.383333333333297 -3.4874999999999798\n",
      "WARNING:shapely.geos:Ring Self-intersection at or near point -78.566666666666634 2.4375000000000195\n",
      "WARNING:shapely.geos:Ring Self-intersection at or near point -77.533333333333303 3.2250000000000258\n",
      "WARNING:shapely.geos:Ring Self-intersection at or near point -78.429166666666632 -9.3458333333333119\n"
     ]
    },
    {
     "name": "stdout",
     "output_type": "stream",
     "text": [
      "\n",
      "Writing ../output/basins_max_12//hybas_sa_PFAF67_v1c.shp\n"
     ]
    }
   ],
   "source": [
    "first = True\n",
    "for i in list(info.iteritems()):\n",
    "    region_id = i[0]\n",
    "    region_info = i[1]\n",
    "    \n",
    "    print('Region: ' + region_id)\n",
    "    \n",
    "    graph = convert_basins_to_graph(region_info)\n",
    "    graph_nodes=dict(graph.nodes(data=True))\n",
    "\n",
    "    for pfaf_id in region_info['pfaf_ids']:\n",
    "        basins = get_leaf_basins(graph, graph_nodes, pfaf_id, max_w, max_h).nodes(data=True)\n",
    "        if first:\n",
    "            mode = 'w'\n",
    "        else:\n",
    "            mode = 'a'\n",
    "        # write_basins(region_id, region_info, pfaf_id, basins, base_dir + 'all.shp', mode)\n",
    "        write_basins(region_id, region_info, pfaf_id, basins)\n",
    "        first=False"
   ]
  },
  {
   "cell_type": "code",
   "execution_count": 9,
   "metadata": {
    "collapsed": false
   },
   "outputs": [
    {
     "name": "stdout",
     "output_type": "stream",
     "text": [
      "Level: 1, Feature Count: 0\n",
      "Level: 2, Feature Count: 0\n",
      "Level: 3, Feature Count: 0\n",
      "Level: 4, Feature Count: 0\n",
      "Level: 5, Feature Count: 0\n",
      "Level: 6, Feature Count: 0\n",
      "Level: 7, Feature Count: 0\n",
      "Level: 8, Feature Count: 0\n",
      "Level: 9, Feature Count: 0\n",
      "Level: 10, Feature Count: 0\n"
     ]
    },
    {
     "data": {
      "text/plain": [
       "[<matplotlib.lines.Line2D at 0x7f4a998905d0>]"
      ]
     },
     "execution_count": 9,
     "metadata": {},
     "output_type": "execute_result"
    },
    {
     "data": {
      "image/png": "[encoded data removed]",
      "text/plain": [
       "<matplotlib.figure.Figure at 0x7f4a99890250>"
      ]
     },
     "metadata": {},
     "output_type": "display_data"
    }
   ],
   "source": [
    "# count total number of catchments for levels 2-10\n",
    "\n",
    "levels = range(1, 11)\n",
    "count = []\n",
    "for level in levels:\n",
    "    files = glob.glob(r'..\\shared\\HydroBASINS\\without_lakes\\hybas_*_lev{0:02}_v1c.shp'.format(level))\n",
    "\n",
    "    feature_count = 0\n",
    "    for f in files:\n",
    "        with fiona.open(f) as source:\n",
    "            feature_count += len(source)\n",
    "    count.append(feature_count)\n",
    "        \n",
    "    print('Level: {0}, Feature Count: {1}'.format(level, feature_count))\n",
    "\n",
    "plt.plot(levels, count)\n",
    "plt.plot([0, 10], [19000, 19000], 'r-', lw=2)\n"
   ]
  },
  {
   "cell_type": "code",
   "execution_count": 5,
   "metadata": {
    "collapsed": false
   },
   "outputs": [
    {
     "ename": "IndexError",
     "evalue": "list index out of range",
     "output_type": "error",
     "traceback": [
      "\u001b[1;31m---------------------------------------------------------------------------\u001b[0m",
      "\u001b[1;31mIndexError\u001b[0m                                Traceback (most recent call last)",
      "\u001b[1;32m<ipython-input-5-51c810614554>\u001b[0m in \u001b[0;36m<module>\u001b[1;34m()\u001b[0m\n\u001b[0;32m      1\u001b[0m \u001b[1;31m# test\u001b[0m\u001b[1;33m\u001b[0m\u001b[1;33m\u001b[0m\u001b[0m\n\u001b[1;32m----> 2\u001b[1;33m \u001b[0mn\u001b[0m \u001b[1;33m=\u001b[0m \u001b[0mconvert_basins_to_graph\u001b[0m\u001b[1;33m(\u001b[0m\u001b[0minfo\u001b[0m\u001b[1;33m[\u001b[0m\u001b[1;34m'gr'\u001b[0m\u001b[1;33m]\u001b[0m\u001b[1;33m)\u001b[0m\u001b[1;33m\u001b[0m\u001b[0m\n\u001b[0m\u001b[0;32m      3\u001b[0m \u001b[0mnodes\u001b[0m\u001b[1;33m=\u001b[0m\u001b[0mdict\u001b[0m\u001b[1;33m(\u001b[0m\u001b[0mn\u001b[0m\u001b[1;33m.\u001b[0m\u001b[0mnodes\u001b[0m\u001b[1;33m(\u001b[0m\u001b[0mdata\u001b[0m\u001b[1;33m=\u001b[0m\u001b[0mTrue\u001b[0m\u001b[1;33m)\u001b[0m\u001b[1;33m)\u001b[0m\u001b[1;33m\u001b[0m\u001b[0m\n\u001b[0;32m      4\u001b[0m \u001b[1;33m\u001b[0m\u001b[0m\n\u001b[0;32m      5\u001b[0m \u001b[0mshape\u001b[0m\u001b[1;33m=\u001b[0m\u001b[0msl\u001b[0m\u001b[1;33m.\u001b[0m\u001b[0mgeometry\u001b[0m\u001b[1;33m.\u001b[0m\u001b[0mshape\u001b[0m\u001b[1;33m(\u001b[0m\u001b[0mnodes\u001b[0m\u001b[1;33m[\u001b[0m\u001b[0mnodes\u001b[0m\u001b[1;33m.\u001b[0m\u001b[0mkeys\u001b[0m\u001b[1;33m(\u001b[0m\u001b[1;33m)\u001b[0m\u001b[1;33m[\u001b[0m\u001b[1;36m0\u001b[0m\u001b[1;33m]\u001b[0m\u001b[1;33m]\u001b[0m\u001b[1;33m[\u001b[0m\u001b[1;34m'feature'\u001b[0m\u001b[1;33m]\u001b[0m\u001b[1;33m[\u001b[0m\u001b[1;34m'geometry'\u001b[0m\u001b[1;33m]\u001b[0m\u001b[1;33m)\u001b[0m\u001b[1;33m\u001b[0m\u001b[0m\n",
      "\u001b[1;32m<ipython-input-4-65cbf7ed7c91>\u001b[0m in \u001b[0;36mconvert_basins_to_graph\u001b[1;34m(region)\u001b[0m\n\u001b[0;32m     31\u001b[0m     \u001b[0mname\u001b[0m \u001b[1;33m=\u001b[0m \u001b[0mregion\u001b[0m\u001b[1;33m[\u001b[0m\u001b[1;34m'name'\u001b[0m\u001b[1;33m]\u001b[0m\u001b[1;33m\u001b[0m\u001b[0m\n\u001b[0;32m     32\u001b[0m \u001b[1;33m\u001b[0m\u001b[0m\n\u001b[1;32m---> 33\u001b[1;33m     \u001b[0mmain_basin\u001b[0m \u001b[1;33m=\u001b[0m \u001b[0mget_basin\u001b[0m\u001b[1;33m(\u001b[0m\u001b[0mmain_basin_id\u001b[0m\u001b[1;33m,\u001b[0m \u001b[0mfiles\u001b[0m\u001b[1;33m[\u001b[0m\u001b[1;36m0\u001b[0m\u001b[1;33m]\u001b[0m\u001b[1;33m)\u001b[0m\u001b[1;33m\u001b[0m\u001b[0m\n\u001b[0m\u001b[0;32m     34\u001b[0m \u001b[1;33m\u001b[0m\u001b[0m\n\u001b[0;32m     35\u001b[0m     \u001b[0mpfaf_id\u001b[0m \u001b[1;33m=\u001b[0m \u001b[0mstr\u001b[0m\u001b[1;33m(\u001b[0m\u001b[0mmain_basin\u001b[0m\u001b[1;33m[\u001b[0m\u001b[1;34m'properties'\u001b[0m\u001b[1;33m]\u001b[0m\u001b[1;33m[\u001b[0m\u001b[1;34m'PFAF_ID'\u001b[0m\u001b[1;33m]\u001b[0m\u001b[1;33m)\u001b[0m\u001b[1;33m\u001b[0m\u001b[0m\n",
      "\u001b[1;31mIndexError\u001b[0m: list index out of range"
     ]
    }
   ],
   "source": [
    "# test\n",
    "n = convert_basins_to_graph(info['gr'])\n",
    "nodes=dict(n.nodes(data=True))\n",
    "\n",
    "shape=sl.geometry.shape(nodes[nodes.keys()[0]]['feature']['geometry'])\n",
    "shape   "
   ]
  },
  {
   "cell_type": "code",
   "execution_count": null,
   "metadata": {
    "collapsed": true
   },
   "outputs": [],
   "source": [
    "(w, h) = get_wh(shape)\n",
    "\n",
    "print('w', w)\n",
    "print('h', h)"
   ]
  },
  {
   "cell_type": "code",
   "execution_count": null,
   "metadata": {
    "collapsed": false
   },
   "outputs": [],
   "source": [
    "basins_wh = []\n",
    "basins_wh_min = []\n",
    "basins_wh_max = []\n",
    "basins_count = []\n",
    "\n",
    "\n",
    "for basins in basins_per_level:\n",
    "    whs = [get_wh(sl.geometry.shape(basin['geometry'])) for basin in basins]\n",
    "    max_wh = np.max([max(whi) for whi in whs])\n",
    "    min_wh = np.min([min(whi) for whi in whs])\n",
    "    count = len(basins)\n",
    "    wh = 0.5*(max_wh+min_wh)\n",
    "    basins_wh_min.append(min_wh)\n",
    "    basins_wh_max.append(max_wh)\n",
    "    basins_wh.append(wh)\n",
    "    basins_count.append(count)\n",
    "    print(min_wh, wh, max_wh, count)"
   ]
  },
  {
   "cell_type": "code",
   "execution_count": null,
   "metadata": {
    "collapsed": false
   },
   "outputs": [],
   "source": [
    "# show number of catchments per level + maximum Width / Height\n",
    "min_wh_values = []\n",
    "max_wh_values = []\n",
    "wh_values = []\n",
    "average_wh_values = []\n",
    "catchment_count = []\n",
    "for i in np.arange(0.2, 9.0, 0.2):\n",
    "    selection = list(get_leaves_smaller_than('61', i, i))\n",
    "    \n",
    "    wh = [get_wh(sl.geometry.shape(nodes[basin]['feature']['geometry'])) for basin in selection]\n",
    "    max_wh = np.max([max(whi) for whi in wh])\n",
    "    min_wh = np.min([min(whi) for whi in wh])\n",
    "    average_wh_values.append(0.5*(min_wh+max_wh))\n",
    "    count = len(basins)\n",
    "\n",
    "    count = len(selection)\n",
    "    print(min_wh, i, max_wh, count)\n",
    "    catchment_count.append(count)\n",
    "    max_wh_values.append(max_wh)\n",
    "    min_wh_values.append(min_wh)\n",
    "    \n",
    "    wh_values.append(i)"
   ]
  },
  {
   "cell_type": "code",
   "execution_count": null,
   "metadata": {
    "collapsed": false
   },
   "outputs": [],
   "source": [
    "plt.plot(catchment_count, wh_values, 'ob-', linewidth=2.0)\n",
    "plt.plot(catchment_count, average_wh_values, 'b-')\n",
    "plt.plot(catchment_count, min_wh_values, 'b--')\n",
    "plt.plot(catchment_count, max_wh_values, 'b--')\n",
    "\n",
    "\n",
    "# plt.errorbar(wh_values, catchment_count,xerr=[min_error_wh_values, max_error_wh_values], fmt='.')\n",
    "\n",
    "\n",
    "# plt.errorbar(wh_values, catchment_count, xerr=error_wh_values)\n",
    "\n",
    "plt.plot(basins_count, basins_wh, 'or-', linewidth=2.0)\n",
    "plt.plot(basins_count, basins_wh_min, 'r--')\n",
    "plt.plot(basins_count, basins_wh_max, 'r--')\n",
    "\n",
    "# plt.errorbar(basins_wh, basins_count, xerr=[basins_wh_error_min,basins_wh_error_max])\n"
   ]
  },
  {
   "cell_type": "code",
   "execution_count": null,
   "metadata": {
    "collapsed": false
   },
   "outputs": [],
   "source": [
    "large_nodes = list((node for (node, data) in n.nodes(data=True) \n",
    "                    if geometry_larger_than(sl.geometry.shape(data['feature']['geometry']), max_w, max_h)))\n",
    "s = n.subgraph(large_nodes)\n",
    "print(len(large_nodes))\n",
    "leaves=[node for node,data in s.out_degree().items() if data==0]\n",
    "print(len(list(leaves)))\n",
    "s = n.subgraph(leaves)\n"
   ]
  },
  {
   "cell_type": "markdown",
   "metadata": {},
   "source": [
    "Try to open it in http://visjs.org/examples/network/15_dot_language_playground.html"
   ]
  },
  {
   "cell_type": "code",
   "execution_count": null,
   "metadata": {
    "collapsed": false
   },
   "outputs": [],
   "source": [
    "nx.write_dot(n, r\"..\\output\\catchment_pfafids.dot\")\n",
    "print(len(n.nodes()))"
   ]
  },
  {
   "cell_type": "code",
   "execution_count": null,
   "metadata": {
    "collapsed": false
   },
   "outputs": [],
   "source": [
    "pos = nx.spring_layout(nx.Graph(n), iterations=500)"
   ]
  },
  {
   "cell_type": "code",
   "execution_count": 1,
   "metadata": {
    "collapsed": false
   },
   "outputs": [
    {
     "ename": "NameError",
     "evalue": "name 'n' is not defined",
     "output_type": "error",
     "traceback": [
      "\u001b[1;31m---------------------------------------------------------------------------\u001b[0m",
      "\u001b[1;31mNameError\u001b[0m                                 Traceback (most recent call last)",
      "\u001b[1;32m<ipython-input-1-4b347dc211fd>\u001b[0m in \u001b[0;36m<module>\u001b[1;34m()\u001b[0m\n\u001b[0;32m      1\u001b[0m \u001b[1;32mimport\u001b[0m \u001b[0mmath\u001b[0m\u001b[1;33m\u001b[0m\u001b[0m\n\u001b[0;32m      2\u001b[0m \u001b[1;33m\u001b[0m\u001b[0m\n\u001b[1;32m----> 3\u001b[1;33m \u001b[0mnode_areas\u001b[0m\u001b[1;33m=\u001b[0m\u001b[1;33m[\u001b[0m\u001b[0mdata\u001b[0m\u001b[1;33m[\u001b[0m\u001b[1;34m'area'\u001b[0m\u001b[1;33m]\u001b[0m \u001b[1;32mfor\u001b[0m \u001b[0mnode\u001b[0m\u001b[1;33m,\u001b[0m\u001b[0mdata\u001b[0m \u001b[1;32min\u001b[0m \u001b[0mn\u001b[0m\u001b[1;33m.\u001b[0m\u001b[0mnodes\u001b[0m\u001b[1;33m(\u001b[0m\u001b[0mdata\u001b[0m\u001b[1;33m=\u001b[0m\u001b[0mTrue\u001b[0m\u001b[1;33m)\u001b[0m\u001b[1;33m]\u001b[0m\u001b[1;33m\u001b[0m\u001b[0m\n\u001b[0m\u001b[0;32m      4\u001b[0m \u001b[1;33m\u001b[0m\u001b[0m\n\u001b[0;32m      5\u001b[0m \u001b[0mnode_sizes\u001b[0m\u001b[1;33m=\u001b[0m\u001b[1;33m[\u001b[0m\u001b[0mmath\u001b[0m\u001b[1;33m.\u001b[0m\u001b[0mlog\u001b[0m\u001b[1;33m(\u001b[0m\u001b[0ma\u001b[0m\u001b[1;33m)\u001b[0m\u001b[1;33m*\u001b[0m\u001b[1;36m100\u001b[0m \u001b[1;32mfor\u001b[0m \u001b[0ma\u001b[0m \u001b[1;32min\u001b[0m \u001b[0mnode_areas\u001b[0m\u001b[1;33m]\u001b[0m\u001b[1;33m\u001b[0m\u001b[0m\n",
      "\u001b[1;31mNameError\u001b[0m: name 'n' is not defined"
     ]
    }
   ],
   "source": [
    "import math\n",
    "\n",
    "node_areas=[data['area'] for node,data in n.nodes(data=True)]\n",
    "\n",
    "node_sizes=[math.log(a)*100 for a in node_areas]\n",
    "\n",
    "nx.draw_networkx_nodes(n, pos, node_color=node_areas, node_size=node_sizes, cmap=plt.cm.Blues, alpha=0.85)\n",
    "_ = nx.draw_networkx_edges(n, pos, alpha=0.2)\n",
    "# _ = nx.draw_networkx_labels(n, pos, font_size=15)\n",
    "\n",
    "# nx.draw_networkx_nodes(s, pos, node_size=20, cmap=plt.cm.Reds, alpha=0.85)\n"
   ]
  },
  {
   "cell_type": "code",
   "execution_count": null,
   "metadata": {
    "collapsed": false
   },
   "outputs": [],
   "source": [
    "leaf_basins = list(s.nodes(data=True))\n",
    "\n",
    "fig = plt.figure()\n",
    "axes = plt.axes()\n",
    "axes.set_aspect('equal', 'datalim')\n",
    "\n",
    "for f in leaf_basins:\n",
    "    geom = sl.geometry.shape(f[1]['feature']['geometry'])\n",
    "    draw(geom, alpha=0.5)\n",
    "\n",
    "plt.show()  \n"
   ]
  },
  {
   "cell_type": "code",
   "execution_count": null,
   "metadata": {
    "collapsed": false
   },
   "outputs": [],
   "source": [
    "print(n.predecessors('5642'))\n",
    "print(n.successors('5642'))\n",
    "\n",
    "s = n.subgraph(n.successors('5642')+['5642','564','56424','5648','56480'])\n",
    "\n",
    "node_areas=[data['area'] for node,data in s.nodes(data=True)]\n",
    "node_sizes=[a*5 for a in node_areas]\n",
    "\n",
    "pos = nx.spring_layout(nx.Graph(s), iterations=500, scale=10.0)\n",
    "\n",
    "nx.draw_networkx_nodes(s, pos, node_color=node_areas, node_size=node_sizes, cmap=plt.cm.Blues, alpha=0.85)\n",
    "_ = nx.draw_networkx_edges(s, pos, alpha=0.2)\n",
    "_ = nx.draw_networkx_labels(s, pos, font_size=15)    "
   ]
  },
  {
   "cell_type": "markdown",
   "metadata": {},
   "source": [
    "Select basins where Area + Width/Height ratio are just less than a given parameter"
   ]
  },
  {
   "cell_type": "code",
   "execution_count": null,
   "metadata": {
    "collapsed": false
   },
   "outputs": [],
   "source": [
    "def get_catchments_using_area(graph, root, max_area):\n",
    "    children = graph.successors(root)\n",
    "    for child in children:\n",
    "        graph[child]\n",
    "    \n",
    "print(n.predecessors('5642'))\n",
    "print(n.successors('5642'))\n"
   ]
  }
 ],
 "metadata": {
  "kernelspec": {
   "display_name": "Python 2",
   "language": "python",
   "name": "python2"
  },
  "language_info": {
   "codemirror_mode": {
    "name": "ipython",
    "version": 2
   },
   "file_extension": ".py",
   "mimetype": "text/x-python",
   "name": "python",
   "nbconvert_exporter": "python",
   "pygments_lexer": "ipython2",
   "version": "2.7.11"
  }
 },
 "nbformat": 4,
 "nbformat_minor": 0
}
