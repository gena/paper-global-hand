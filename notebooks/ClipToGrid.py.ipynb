{
 "cells": [
  {
   "cell_type": "code",
   "execution_count": null,
   "metadata": {
    "collapsed": true
   },
   "outputs": [],
   "source": [
    "# convert_to_tiles.py produces tiles which slightly off\n",
    "# instead of retiling everything we try to stretch/fit them to grid tiles"
   ]
  },
  {
   "cell_type": "code",
   "execution_count": 84,
   "metadata": {
    "collapsed": true
   },
   "outputs": [],
   "source": [
    "import fiona\n",
    "import gdal\n",
    "import shapely.geometry\n",
    "from shapely.geometry import mapping\n",
    "import shapely as sl\n",
    "import glob\n",
    "from osgeo import gdal\n",
    "import subprocess\n",
    "import os.path"
   ]
  },
  {
   "cell_type": "code",
   "execution_count": 87,
   "metadata": {
    "collapsed": true
   },
   "outputs": [],
   "source": [
    "def clip_raster(in_path, out_path, shp_path, bounds, dx, dy):\n",
    "    # read scale from original raster\n",
    "    cmd = u'gdalwarp -co BIGTIFF=YES -co COMPRESS=DEFLATE -co PREDICTOR=2 -co ZLEVEL=6 -tr {3} {4} -te {5} {6} {7} {8} -dstnodata -99999 -q -cutline {0} -of GTiff {1} {2}'.format(shp_path, in_path, out_path, dx, dy, bounds[0], bounds[1], bounds[2], bounds[3])\n",
    "    subprocess.check_call(cmd, shell=True)\n",
    "\n",
    "    pass\n",
    "\n",
    "def write_shp(geom, shp_path, id):\n",
    "    schema = { 'geometry': 'Polygon', 'properties': {'id': 'int'}, }\n",
    "\n",
    "    with fiona.open(shp_path, 'w', 'ESRI Shapefile', schema) as c:\n",
    "        c.write({'geometry': mapping(geom), 'properties': {'id': id}})\n"
   ]
  },
  {
   "cell_type": "code",
   "execution_count": null,
   "metadata": {
    "collapsed": false
   },
   "outputs": [
    {
     "name": "stdout",
     "output_type": "stream",
     "text": [
      "000\n",
      "001\n",
      "002\n",
      "003\n",
      "004\n",
      "005\n",
      "006\n",
      "007\n",
      "008"
     ]
    }
   ],
   "source": [
    "pixel_size = 0.000833333333333\n",
    " \n",
    "grid_file_path = r'../shared/grid-90m-exact.shp'\n",
    "with fiona.collection(grid_file_path, 'r') as input:\n",
    "    for f in input:\n",
    "        geom = sl.geometry.shape(f['geometry'])\n",
    "        id = f['id']\n",
    "        print(f['id'].zfill(3))\n",
    "        \n",
    "        in_path = r'../output/tiles-90/hand-556/HAND_556_' + id.zfill(3) + '.0.tif'\n",
    "        out_path = r'../output/tiles-90/hand-556/fixed/HAND_556_' + id.zfill(3) + '.0.tif'\n",
    "        \n",
    "        if os.path.exists(in_path):\n",
    "            cell_path = 'cell.shp'\n",
    "            write_shp(geom, cell_path, id)\n",
    "            clip_raster(in_path, out_path, cell_path, geom.bounds, pixel_size, -pixel_size)"
   ]
  }
 ],
 "metadata": {
  "kernelspec": {
   "display_name": "Python 2",
   "language": "python",
   "name": "python2"
  },
  "language_info": {
   "codemirror_mode": {
    "name": "ipython",
    "version": 2
   },
   "file_extension": ".py",
   "mimetype": "text/x-python",
   "name": "python",
   "nbconvert_exporter": "python",
   "pygments_lexer": "ipython2",
   "version": "2.7.9"
  }
 },
 "nbformat": 4,
 "nbformat_minor": 0
}
